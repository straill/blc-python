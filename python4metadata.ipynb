{
  "nbformat": 4,
  "nbformat_minor": 0,
  "metadata": {
    "colab": {
      "name": "python4metadata.ipynb",
      "provenance": [],
      "collapsed_sections": [],
      "authorship_tag": "ABX9TyNqGg1rS5g2BfyVZhyVa9cP",
      "include_colab_link": true
    },
    "kernelspec": {
      "name": "python3",
      "display_name": "Python 3"
    },
    "language_info": {
      "name": "python"
    }
  },
  "cells": [
    {
      "cell_type": "markdown",
      "metadata": {
        "id": "view-in-github",
        "colab_type": "text"
      },
      "source": [
        "<a href=\"https://colab.research.google.com/github/straill/blc-python/blob/gh-pages/python4metadata.ipynb\" target=\"_parent\"><img src=\"https://colab.research.google.com/assets/colab-badge.svg\" alt=\"Open In Colab\"/></a>"
      ]
    },
    {
      "cell_type": "markdown",
      "source": [
        "# Introduction to Python for Library Metadata\n",
        "\n",
        "Welcome! We'll be working with this [Jupyter Notebook](https://jupyter.org/) throughout the workshop. You may run the notebook in either [Google Colab](https://colab.research.google.com/) (requires Google account) or on your own computer through Jupyter Lab. Installation instructions for Jupyter Lab (and other Python tools) are on the [workshop website](https://straill.github.io/blc-python/)."
      ],
      "metadata": {
        "id": "HDfmJGfZwu1-"
      }
    },
    {
      "cell_type": "markdown",
      "source": [
        "If you are using Colab, run the next cell to install [pymarc](https://pymarc.readthedocs.io/en/latest/index.html) in your Colab environment. If you're running Jupyter Lab on your own computer, skip the next cell."
      ],
      "metadata": {
        "id": "YzoY4zSsxcsB"
      }
    },
    {
      "cell_type": "code",
      "execution_count": 1,
      "metadata": {
        "colab": {
          "base_uri": "https://localhost:8080/"
        },
        "id": "Xd9RHJyymaFh",
        "outputId": "baf42d24-0435-4988-ea46-6db8ff089496"
      },
      "outputs": [
        {
          "output_type": "stream",
          "name": "stdout",
          "text": [
            "Looking in indexes: https://pypi.org/simple, https://us-python.pkg.dev/colab-wheels/public/simple/\n",
            "Collecting pymarc\n",
            "  Downloading pymarc-4.2.0.tar.gz (230 kB)\n",
            "\u001b[K     |████████████████████████████████| 230 kB 4.9 MB/s \n",
            "\u001b[?25hBuilding wheels for collected packages: pymarc\n",
            "  Building wheel for pymarc (setup.py) ... \u001b[?25l\u001b[?25hdone\n",
            "  Created wheel for pymarc: filename=pymarc-4.2.0-py3-none-any.whl size=155332 sha256=1e6a2b4a7878e5c03987dd88f5198afdf0b55d4635f12ed0141450d2d7bcae71\n",
            "  Stored in directory: /root/.cache/pip/wheels/35/c1/bc/7cbc19ab89d8fea276e17106de1231e299f0bbe73135610515\n",
            "Successfully built pymarc\n",
            "Installing collected packages: pymarc\n",
            "Successfully installed pymarc-4.2.0\n"
          ]
        }
      ],
      "source": [
        "pip install pymarc"
      ]
    },
    {
      "cell_type": "markdown",
      "source": [
        "## Doing something (almost) useful\n",
        "\n",
        "When you are first learning any programming language, start small. If you want to automate an entire process or workflow, break it down into very small pieces. My first useful Python script did nothing more than pull identifiers from a file of MARC records and write it into a text file.\n",
        "\n",
        "In the next few cells, we'll look at some code to extract elements from MARC records."
      ],
      "metadata": {
        "id": "d6XB0h02zObN"
      }
    },
    {
      "cell_type": "markdown",
      "source": [
        "The first thing we need to do is to import the module (or library) we need. Modules, also known as libraries, are packages of functions that are ready to use. Think of them as boxes of building blocks. You can take the building blocks and assemble them to build the process you need."
      ],
      "metadata": {
        "id": "TLUY0REd0Jc1"
      }
    },
    {
      "cell_type": "code",
      "source": [
        "import pymarc"
      ],
      "metadata": {
        "id": "WJHkxniTmjGB"
      },
      "execution_count": 2,
      "outputs": []
    },
    {
      "cell_type": "markdown",
      "source": [
        "There isn't any output from an `import` statement -- it's just a command that tells Python to load that package of functions so they are ready to use.\n",
        "\n",
        "Next, we need to read the MARC file. Reading the file creates what is known as an **iterable object** that we can use code to loop through. A MARCReader object lets us loop through each record in the read file one by one, and act on each record."
      ],
      "metadata": {
        "id": "DgWFnT2u0tD6"
      }
    },
    {
      "cell_type": "code",
      "source": [
        "reader = pymarc.MARCReader(open('btlease_test_1.mrc', 'rb'))"
      ],
      "metadata": {
        "id": "n469ciTyuGy3"
      },
      "execution_count": 6,
      "outputs": []
    },
    {
      "cell_type": "markdown",
      "source": [
        "This command also has no output. But what happened here is that now we've created an iterable object of all of the MARC records in the `blcrecords.mrc` file. The iterable object is named `reader`, so when we need to do something with it later, we can do that by name. "
      ],
      "metadata": {
        "id": "CPK__z5s2TXo"
      }
    },
    {
      "cell_type": "markdown",
      "source": [
        "In the next cell, we will tell Python to execute a loop, where each record in `reader` will be processed one by one. In the body of the loop, we will extract the title field (MARC 245) from each record, and print it out."
      ],
      "metadata": {
        "id": "1tSOgUUr294e"
      }
    },
    {
      "cell_type": "code",
      "source": [
        "for rec in reader:\n",
        "  print(rec.title())"
      ],
      "metadata": {
        "colab": {
          "base_uri": "https://localhost:8080/"
        },
        "id": "KXF4OitQuOHE",
        "outputId": "c23349f4-b864-4575-d36a-8b9713f026a7"
      },
      "execution_count": 7,
      "outputs": [
        {
          "output_type": "stream",
          "name": "stdout",
          "text": [
            "The oracle /\n",
            "How could she /\n",
            "Say No to the Duke.\n",
            "Call it what you want /\n",
            "Peter Rabbit 5-Minute Stories.\n",
            "Gone too long : a novel /\n"
          ]
        }
      ]
    },
    {
      "cell_type": "markdown",
      "source": [
        ""
      ],
      "metadata": {
        "id": "u4idcODdvwZQ"
      }
    }
  ]
}